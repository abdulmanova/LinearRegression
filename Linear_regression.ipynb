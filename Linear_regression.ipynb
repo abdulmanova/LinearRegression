{
  "nbformat": 4,
  "nbformat_minor": 0,
  "metadata": {
    "colab": {
      "name": "Linear_regression.ipynb",
      "provenance": [],
      "collapsed_sections": []
    },
    "kernelspec": {
      "display_name": "Python 3",
      "name": "python3"
    },
    "language_info": {
      "name": "python"
    }
  },
  "cells": [
    {
      "cell_type": "code",
      "metadata": {
        "colab": {
          "base_uri": "https://localhost:8080/",
          "height": 203
        },
        "id": "86I7e0kUEnAY",
        "outputId": "31f1f1b1-959e-4ee7-ce18-0f3ac2aed494"
      },
      "source": [
        "import pandas as pd\n",
        "#df = pd.read_csv('/content/drive/My Drive/insurance.csv')\n",
        "data = pd.read_csv('insurance.csv')\n",
        "data.head(5)"
      ],
      "execution_count": 33,
      "outputs": [
        {
          "output_type": "execute_result",
          "data": {
            "text/html": [
              "<div>\n",
              "<style scoped>\n",
              "    .dataframe tbody tr th:only-of-type {\n",
              "        vertical-align: middle;\n",
              "    }\n",
              "\n",
              "    .dataframe tbody tr th {\n",
              "        vertical-align: top;\n",
              "    }\n",
              "\n",
              "    .dataframe thead th {\n",
              "        text-align: right;\n",
              "    }\n",
              "</style>\n",
              "<table border=\"1\" class=\"dataframe\">\n",
              "  <thead>\n",
              "    <tr style=\"text-align: right;\">\n",
              "      <th></th>\n",
              "      <th>age</th>\n",
              "      <th>sex</th>\n",
              "      <th>bmi</th>\n",
              "      <th>children</th>\n",
              "      <th>smoker</th>\n",
              "      <th>region</th>\n",
              "      <th>charges</th>\n",
              "    </tr>\n",
              "  </thead>\n",
              "  <tbody>\n",
              "    <tr>\n",
              "      <th>0</th>\n",
              "      <td>19</td>\n",
              "      <td>female</td>\n",
              "      <td>27.900</td>\n",
              "      <td>0</td>\n",
              "      <td>yes</td>\n",
              "      <td>southwest</td>\n",
              "      <td>16884.92400</td>\n",
              "    </tr>\n",
              "    <tr>\n",
              "      <th>1</th>\n",
              "      <td>18</td>\n",
              "      <td>male</td>\n",
              "      <td>33.770</td>\n",
              "      <td>1</td>\n",
              "      <td>no</td>\n",
              "      <td>southeast</td>\n",
              "      <td>1725.55230</td>\n",
              "    </tr>\n",
              "    <tr>\n",
              "      <th>2</th>\n",
              "      <td>28</td>\n",
              "      <td>male</td>\n",
              "      <td>33.000</td>\n",
              "      <td>3</td>\n",
              "      <td>no</td>\n",
              "      <td>southeast</td>\n",
              "      <td>4449.46200</td>\n",
              "    </tr>\n",
              "    <tr>\n",
              "      <th>3</th>\n",
              "      <td>33</td>\n",
              "      <td>male</td>\n",
              "      <td>22.705</td>\n",
              "      <td>0</td>\n",
              "      <td>no</td>\n",
              "      <td>northwest</td>\n",
              "      <td>21984.47061</td>\n",
              "    </tr>\n",
              "    <tr>\n",
              "      <th>4</th>\n",
              "      <td>32</td>\n",
              "      <td>male</td>\n",
              "      <td>28.880</td>\n",
              "      <td>0</td>\n",
              "      <td>no</td>\n",
              "      <td>northwest</td>\n",
              "      <td>3866.85520</td>\n",
              "    </tr>\n",
              "  </tbody>\n",
              "</table>\n",
              "</div>"
            ],
            "text/plain": [
              "   age     sex     bmi  children smoker     region      charges\n",
              "0   19  female  27.900         0    yes  southwest  16884.92400\n",
              "1   18    male  33.770         1     no  southeast   1725.55230\n",
              "2   28    male  33.000         3     no  southeast   4449.46200\n",
              "3   33    male  22.705         0     no  northwest  21984.47061\n",
              "4   32    male  28.880         0     no  northwest   3866.85520"
            ]
          },
          "metadata": {},
          "execution_count": 33
        }
      ]
    },
    {
      "cell_type": "markdown",
      "metadata": {
        "id": "Qf4vZiSml-aR"
      },
      "source": [
        "The problem is to charge a medical insurence for a particular person. Here I am splitting the data on target values and attributes."
      ]
    },
    {
      "cell_type": "code",
      "metadata": {
        "id": "42hxILmq_J7G"
      },
      "source": [
        "x = data.iloc[:,:6]\n",
        "y = data.iloc[:,6]"
      ],
      "execution_count": 34,
      "outputs": []
    },
    {
      "cell_type": "markdown",
      "metadata": {
        "id": "I7mr4xeHmcdB"
      },
      "source": [
        "Some data is not expressed as numbers, so I apply OneHotEncoding to be able to manipulate data in numerical sence."
      ]
    },
    {
      "cell_type": "code",
      "metadata": {
        "id": "RSitWBzwBmq6"
      },
      "source": [
        "from sklearn.preprocessing import OneHotEncoder\n",
        "for i in ['region', 'smoker', 'sex']:\n",
        "  one_hot = pd.get_dummies(x[i])\n",
        "  x = x.drop(i, axis = 1)\n",
        "  x = x.join(one_hot)"
      ],
      "execution_count": 35,
      "outputs": []
    },
    {
      "cell_type": "markdown",
      "metadata": {
        "id": "MyUuiyA1nA1Z"
      },
      "source": [
        "Here I am splitting the dataset on train and test."
      ]
    },
    {
      "cell_type": "code",
      "metadata": {
        "id": "041BlMHZLz7j"
      },
      "source": [
        "from sklearn.model_selection import train_test_split\n",
        "X_train, X_test, y_train, y_test = train_test_split(x, y, test_size = 0.2, random_state = 0)\n"
      ],
      "execution_count": 36,
      "outputs": []
    },
    {
      "cell_type": "markdown",
      "metadata": {
        "id": "ThElWpvsnJXm"
      },
      "source": [
        "In this part of code I am using method of LinearRegression to build a model."
      ]
    },
    {
      "cell_type": "code",
      "metadata": {
        "colab": {
          "base_uri": "https://localhost:8080/"
        },
        "id": "1Fls8piQNUYR",
        "outputId": "97ff661f-71d7-4956-c2ed-21036475bb99"
      },
      "source": [
        "from sklearn.linear_model import LinearRegression\n",
        "from sklearn.metrics import mean_squared_error, mean_absolute_error\n",
        "\n",
        "reg = LinearRegression().fit(X_train, y_train)\n",
        "y_pred = reg.predict(X_test)\n",
        "\n",
        "test_mae = mean_absolute_error(y_test, y_pred)\n",
        "print(f'Mean absolute error on test dataset: {test_mae}')\n",
        "y_pred = reg.predict(X_train)\n",
        "train_mae = mean_absolute_error(y_train, y_pred)\n",
        "print(f'Mean absolute error on train dataset: {train_mae}')"
      ],
      "execution_count": 37,
      "outputs": [
        {
          "output_type": "stream",
          "name": "stdout",
          "text": [
            "Mean absolute error on test dataset: 3933.272649405236\n",
            "Mean absolute error on train dataset: 4234.5511433147\n"
          ]
        }
      ]
    },
    {
      "cell_type": "markdown",
      "metadata": {
        "id": "Cn6p80ORneBE"
      },
      "source": [
        "To make a model more percise I am using PolynomialFeatures and searching for the best polynomial degree."
      ]
    },
    {
      "cell_type": "code",
      "metadata": {
        "colab": {
          "base_uri": "https://localhost:8080/"
        },
        "id": "MPENYWZ-QphX",
        "outputId": "c3b59918-e573-47a3-8000-572036cf3a28"
      },
      "source": [
        "from sklearn.preprocessing import PolynomialFeatures\n",
        "from sklearn.pipeline import Pipeline\n",
        "import numpy as np\n",
        "\n",
        "error = []\n",
        "\n",
        "\n",
        "for degree in range(1, 7):\n",
        "  polynomial_features = PolynomialFeatures(degree= degree)\n",
        "  linear_regression = LinearRegression()\n",
        "  pipeline = Pipeline([(\"polynomial_features\", polynomial_features),\n",
        "                          (\"linear_regression\", linear_regression)])\n",
        "\n",
        "  pipeline.fit(X_train, y_train)\n",
        "  y_pred = pipeline.predict(X_test)\n",
        "  mae = mean_absolute_error(y_test, y_pred)\n",
        "  error.append(mae)\n",
        "\n",
        "print(f'The minimum error is {min(error)}, and we get it using degree {np.argmin(error)+1}')\n"
      ],
      "execution_count": 38,
      "outputs": [
        {
          "output_type": "stream",
          "name": "stdout",
          "text": [
            "The minimum error is 3165.4340386470367, and we get it using degree 4\n"
          ]
        }
      ]
    },
    {
      "cell_type": "markdown",
      "metadata": {
        "id": "Cgt3aUQxoBTv"
      },
      "source": [
        "From the graph we can see that the best degree is 4."
      ]
    },
    {
      "cell_type": "code",
      "metadata": {
        "id": "wmSWeveiRH7S",
        "colab": {
          "base_uri": "https://localhost:8080/",
          "height": 296
        },
        "outputId": "dad3d99f-0d41-4dfa-8618-ae5e1b93ebe6"
      },
      "source": [
        "import matplotlib.pyplot as plt\n",
        "\n",
        "print(error)\n",
        "plt.plot( range(1 , 6 ) , error[:5] , label = 'MAE for different degrees')\n",
        "plt.xlabel(\"Degree\")\n",
        "plt.ylabel(\"MAE\")\n",
        "plt.legend()\n",
        "plt.grid()\n",
        "plt.show()"
      ],
      "execution_count": 39,
      "outputs": [
        {
          "output_type": "stream",
          "name": "stdout",
          "text": [
            "[3933.272649405239, 5079.100387354479, 3418.090844761893, 3165.4340386470367, 5439.801760038033, 2309845.3039902244]\n"
          ]
        },
        {
          "output_type": "display_data",
          "data": {
            "image/png": "[encoded data removed]",
            "text/plain": [
              "<Figure size 432x288 with 1 Axes>"
            ]
          },
          "metadata": {
            "needs_background": "light"
          }
        }
      ]
    },
    {
      "cell_type": "markdown",
      "metadata": {
        "id": "y-QrfRcMoKZ8"
      },
      "source": [
        "Applying cross-validation to see if degree 4 is actually the best.\n"
      ]
    },
    {
      "cell_type": "code",
      "metadata": {
        "colab": {
          "base_uri": "https://localhost:8080/"
        },
        "id": "dn_fvthlva4C",
        "outputId": "9ee969b6-4a64-4ef5-b7a3-39c45efb5ceb"
      },
      "source": [
        "from sklearn.model_selection import cross_val_score\n",
        "error = []\n",
        "\n",
        "\n",
        "for degree in range(1, 7) :\n",
        "  polynomial_features = PolynomialFeatures(degree= degree )\n",
        "  linear_regression = LinearRegression()\n",
        "  pipeline = Pipeline([(\"polynomial_features\", polynomial_features),\n",
        "                          (\"linear_regression\", linear_regression)])\n",
        "\n",
        "  error.append(np.mean(abs((cross_val_score(pipeline, X_train, y_train, cv = 3)))))\n",
        "\n",
        "print(f'The minimum error is {min(error)}, and we get it using degree {np.argmin(error)+1}')\n"
      ],
      "execution_count": 40,
      "outputs": [
        {
          "output_type": "stream",
          "name": "stdout",
          "text": [
            "The minimum error is 0.617291646025977, and we get it using degree 4\n"
          ]
        }
      ]
    },
    {
      "cell_type": "markdown",
      "metadata": {
        "id": "bXEcKQo6ooU4"
      },
      "source": [
        "From the graph we can see that the best degree is 4."
      ]
    },
    {
      "cell_type": "code",
      "metadata": {
        "colab": {
          "base_uri": "https://localhost:8080/",
          "height": 296
        },
        "id": "lE1S6NgXygR3",
        "outputId": "21e9590b-db55-4c31-d0ca-5646a5449c99"
      },
      "source": [
        "print(error)\n",
        "plt.plot( range(1 , 7 ) , error , label = 'Validation score for different degrees')\n",
        "plt.xlabel(\"Degree\")\n",
        "plt.ylabel(\"Validation score\")\n",
        "plt.legend()\n",
        "plt.grid()\n",
        "plt.show()"
      ],
      "execution_count": 41,
      "outputs": [
        {
          "output_type": "stream",
          "name": "stdout",
          "text": [
            "[0.7325930056932645, 0.7779216553462573, 0.7808574516519048, 0.617291646025977, 68502.81811972165, 125247.98691027577]\n"
          ]
        },
        {
          "output_type": "display_data",
          "data": {
            "image/png": "[encoded data removed]",
            "text/plain": [
              "<Figure size 432x288 with 1 Axes>"
            ]
          },
          "metadata": {
            "needs_background": "light"
          }
        }
      ]
    },
    {
      "cell_type": "markdown",
      "metadata": {
        "id": "BSeXvL7Qot8M"
      },
      "source": [
        "Applying regularization to see if it makes a model better. It is seen from the error that regularization is redundant since the regularization error is greater from the previous error calculated using polynomial features."
      ]
    },
    {
      "cell_type": "code",
      "metadata": {
        "colab": {
          "base_uri": "https://localhost:8080/"
        },
        "id": "mK5Q0uxnxqoU",
        "outputId": "1f610efb-7dbb-4d1c-c8cf-88374d410d59"
      },
      "source": [
        "from sklearn.linear_model import Ridge\n",
        "error = []\n",
        "ridge = Ridge(normalize= True)\n",
        "alphas = [i/10 for i in range(2, 32, 2)]\n",
        "for alpha in alphas:\n",
        "  ridge.set_params(alpha = alpha)\n",
        "  ridge.fit(X_train, y_train)\n",
        "  y_pred = ridge.predict(X_test)\n",
        "  error.append(mean_absolute_error(y_test, y_pred))\n",
        "\n",
        "\n",
        "print(f'the minimum error is {min(error)}, and we get it using alpha {alphas[np.argmin(error)]}')\n"
      ],
      "execution_count": 42,
      "outputs": [
        {
          "output_type": "stream",
          "name": "stdout",
          "text": [
            "the minimum error is 4182.7245089046855, and we get it using alpha 0.2\n"
          ]
        }
      ]
    },
    {
      "cell_type": "code",
      "metadata": {
        "id": "jU-141Z5Xtbx"
      },
      "source": [
        ""
      ],
      "execution_count": null,
      "outputs": []
    }
  ]
}